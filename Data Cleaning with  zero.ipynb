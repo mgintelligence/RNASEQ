{
 "cells": [
  {
   "cell_type": "code",
   "execution_count": 2,
   "id": "ed8ae574-7ee4-4566-8cb2-26ca2eac8caa",
   "metadata": {},
   "outputs": [
    {
     "name": "stdout",
     "output_type": "stream",
     "text": [
      "File saved successfully at: C:/Users/ganes/OneDrive/Desktop/AI/Drug/Sequence/Sequence_Filtered_Cleaned.xlsx\n"
     ]
    }
   ],
   "source": [
    "import pandas as pd\n",
    "import re\n",
    "from sklearn.preprocessing import LabelEncoder\n",
    "\n",
    "# Load dataset\n",
    "df = pd.read_excel(\"C:/Users/ganes/OneDrive/Desktop/AI/Drug/Sequence/Sequence.xlsx\")\n",
    "\n",
    "# Function to clean Chromosome column\n",
    "def clean_chromosome(chrom):\n",
    "    match = re.match(r\"chr(\\d+|X|Y)\", str(chrom))  # Extracts 'chr1', 'chr2', ..., 'chrX', 'chrY'\n",
    "    return match.group(0) if match else \"Other\"  # Assign \"Other\" if no match\n",
    "\n",
    "# Apply cleaning\n",
    "df[\"Chromosome\"] = df[\"Chromosome\"].apply(clean_chromosome)\n",
    "\n",
    "# Define a custom ordering for chromosomes\n",
    "chromosome_order = {f\"chr{i}\": i for i in range(1, 23)}  # chr1 to chr22\n",
    "chromosome_order.update({\"chrX\": 23, \"chrY\": 24, \"Other\": 25})  # Assign unique numbers to X, Y, and Other\n",
    "\n",
    "# Apply custom encoding\n",
    "df[\"Chromosome_Encoded\"] = df[\"Chromosome\"].map(chromosome_order)\n",
    "\n",
    "# Drop any unwanted extra columns (fixes empty column issue)\n",
    "df = df.loc[:, ~df.columns.str.contains('Unnamed')]\n",
    "\n",
    "# Convert categorical columns to string and apply Label Encoding\n",
    "label_encoders = {}  # Store label encoders if needed later\n",
    "for col in ['Feature', 'Strand', 'Gene_ID', 'Transcript_ID']:\n",
    "    df[col] = df[col].astype(str)  # Convert to string\n",
    "    le = LabelEncoder()\n",
    "    df[col] = le.fit_transform(df[col])  # Apply Label Encoding\n",
    "    label_encoders[col] = le  # Store the encoder for future reference\n",
    "\n",
    "# Create a new column 'Length' by calculating the difference between 'end' and 'start'\n",
    "df['Length'] = df['End'] - df['Start']\n",
    "\n",
    "# Save the cleaned and encoded data to a new Excel file\n",
    "output_path = \"C:/Users/ganes/OneDrive/Desktop/AI/Drug/Sequence/Sequence_Filtered_Cleaned.xlsx\"\n",
    "df.to_excel(output_path, index=False)\n",
    "\n",
    "print(f\"File saved successfully at: {output_path}\")\n"
   ]
  },
  {
   "cell_type": "code",
   "execution_count": null,
   "id": "c8b23a21-dd77-4109-862e-b0448527b70c",
   "metadata": {},
   "outputs": [],
   "source": []
  }
 ],
 "metadata": {
  "kernelspec": {
   "display_name": "Python 3 (ipykernel)",
   "language": "python",
   "name": "python3"
  },
  "language_info": {
   "codemirror_mode": {
    "name": "ipython",
    "version": 3
   },
   "file_extension": ".py",
   "mimetype": "text/x-python",
   "name": "python",
   "nbconvert_exporter": "python",
   "pygments_lexer": "ipython3",
   "version": "3.12.8"
  }
 },
 "nbformat": 4,
 "nbformat_minor": 5
}
